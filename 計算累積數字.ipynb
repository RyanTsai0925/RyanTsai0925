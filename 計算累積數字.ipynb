{
  "nbformat": 4,
  "nbformat_minor": 0,
  "metadata": {
    "colab": {
      "provenance": [],
      "authorship_tag": "ABX9TyOObMZbB0dB09IampNfbZmF",
      "include_colab_link": true
    },
    "kernelspec": {
      "name": "python3",
      "display_name": "Python 3"
    },
    "language_info": {
      "name": "python"
    }
  },
  "cells": [
    {
      "cell_type": "markdown",
      "metadata": {
        "id": "view-in-github",
        "colab_type": "text"
      },
      "source": [
        "<a href=\"https://colab.research.google.com/github/RyanTsai0925/RyanTsai0925/blob/main/%E8%A8%88%E7%AE%97%E7%B4%AF%E7%A9%8D%E6%95%B8%E5%AD%97.ipynb\" target=\"_parent\"><img src=\"https://colab.research.google.com/assets/colab-badge.svg\" alt=\"Open In Colab\"/></a>"
      ]
    },
    {
      "cell_type": "code",
      "execution_count": 7,
      "metadata": {
        "id": "OVl9h4ZklM-c"
      },
      "outputs": [],
      "source": [
        "Q1 = 37349312"
      ]
    },
    {
      "cell_type": "code",
      "source": [
        "Q2 = 37755420"
      ],
      "metadata": {
        "id": "spHMQXzVt4IR",
        "collapsed": true
      },
      "execution_count": 10,
      "outputs": []
    },
    {
      "cell_type": "code",
      "source": [
        "Q3 = 36080062"
      ],
      "metadata": {
        "id": "yb163Z9st5tQ"
      },
      "execution_count": 11,
      "outputs": []
    },
    {
      "cell_type": "code",
      "source": [
        "Q4 = 36464334"
      ],
      "metadata": {
        "id": "YbD1p701t7WX"
      },
      "execution_count": 8,
      "outputs": []
    },
    {
      "cell_type": "code",
      "source": [
        "ACC_Q1 = Q1\n",
        "print(ACC_Q1)\n",
        "\n"
      ],
      "metadata": {
        "colab": {
          "base_uri": "https://localhost:8080/"
        },
        "collapsed": true,
        "id": "uXdgvSqhvnn4",
        "outputId": "9eb7426e-50b0-413c-986a-829bd4a2c543"
      },
      "execution_count": 13,
      "outputs": [
        {
          "output_type": "stream",
          "name": "stdout",
          "text": [
            "37349312\n"
          ]
        }
      ]
    },
    {
      "cell_type": "code",
      "source": [
        "ACC_Q2 = Q1 + Q2\n",
        "print(ACC_Q2)\n"
      ],
      "metadata": {
        "id": "OwzfcppHwe1V",
        "colab": {
          "base_uri": "https://localhost:8080/"
        },
        "outputId": "221be7b1-04fe-4056-cc28-b2b7eebe951e"
      },
      "execution_count": 14,
      "outputs": [
        {
          "output_type": "stream",
          "name": "stdout",
          "text": [
            "75104732\n"
          ]
        }
      ]
    },
    {
      "cell_type": "code",
      "source": [
        "ACC_Q3 = Q1 + Q2 + Q3\n",
        "print(ACC_Q3)"
      ],
      "metadata": {
        "colab": {
          "base_uri": "https://localhost:8080/"
        },
        "id": "xq-F5wzRvxie",
        "outputId": "ebf6209d-c442-4450-a67a-e7d616d06b52"
      },
      "execution_count": 15,
      "outputs": [
        {
          "output_type": "stream",
          "name": "stdout",
          "text": [
            "111184794\n"
          ]
        }
      ]
    },
    {
      "cell_type": "code",
      "source": [
        "ACC_Q4 = Q1 + Q2 + Q3 +Q4\n",
        "print(ACC_Q4)"
      ],
      "metadata": {
        "id": "dsEMZIzTwcf2",
        "colab": {
          "base_uri": "https://localhost:8080/"
        },
        "outputId": "c40f5b49-aa6b-4dc6-b6bf-5af3b2e7629c"
      },
      "execution_count": 16,
      "outputs": [
        {
          "output_type": "stream",
          "name": "stdout",
          "text": [
            "147649128\n"
          ]
        }
      ]
    },
    {
      "cell_type": "code",
      "source": [],
      "metadata": {
        "id": "Y3kLymLgwP-P"
      },
      "execution_count": null,
      "outputs": []
    }
  ]
}